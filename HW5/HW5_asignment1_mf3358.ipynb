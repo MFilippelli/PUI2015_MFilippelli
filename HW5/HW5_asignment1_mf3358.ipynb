{
 "cells": [
  {
   "cell_type": "code",
   "execution_count": 1,
   "metadata": {
    "collapsed": false
   },
   "outputs": [
    {
     "name": "stdout",
     "output_type": "stream",
     "text": [
      "Populating the interactive namespace from numpy and matplotlib\n"
     ]
    }
   ],
   "source": [
    "import pandas as pd\n",
    "import sys\n",
    "import os\n",
    "import numpy \n",
    "import pylab as pl\n",
    "import geopandas as gp\n",
    "\n",
    "%pylab inline"
   ]
  },
  {
   "cell_type": "code",
   "execution_count": null,
   "metadata": {
    "collapsed": false
   },
   "outputs": [
    {
     "name": "stdout",
     "output_type": "stream",
     "text": [
      "Index([u'NYC Borough, Block, and Lot (BBL)', u'Co-reported BBL Status',\n",
      "       u'BBLs Co-reported',\n",
      "       u'Reported NYC Building Identificaiton Numbers (BINs)',\n",
      "       u'Street Number', u'Street Name', u'Borough', u'Zip Code',\n",
      "       u'DOF Benchmarking Submission Status', u'Site EUI(kBtu/ft2)',\n",
      "       u'Weather Normalized Site EUI(kBtu/ft2)', u'Source EUI(kBtu/ft2)',\n",
      "       u'Weather Normalized Source EUI(kBtu/ft2)',\n",
      "       u'Municipally Supplied Potable Water - Indoor Intensity (gal/ft²)',\n",
      "       u'Automatic Water Benchmarking Eligible', u'Reported Water Method',\n",
      "       u'ENERGY STAR Score', u'Total GHG Emissions(MtCO2e)',\n",
      "       u'Direct GHG Emissions(MtCO2e)', u'Indirect GHG Emissions(MtCO2e)',\n",
      "       u'Reported Property Floor Area (Building(s)) (ft²)',\n",
      "       u'DOF Property Floor Area (Buildngs and Parking)(ft2)',\n",
      "       u'Primary Property Type - Self Selected', u'DOF Number of Buildings'],\n",
      "      dtype='object')\n"
     ]
    }
   ],
   "source": [
    "nrg = gp.GeoDataFrame.from_csv('C:/Users/Maria/SkyDrive/Documents/principles of informatics/Energy_and_Water_Data_disclosure_for_Local_Law_84__2013_.csv')\n",
    "print nrg.columns"
   ]
  },
  {
   "cell_type": "code",
   "execution_count": null,
   "metadata": {
    "collapsed": false
   },
   "outputs": [],
   "source": [
    "bsize = gp.GeoDataFrame.from_file('C:/Users/Maria/SkyDrive/Documents/principles of informatics/Manhattan/MNMapPLUTO.shp')\n",
    "print bsize.columns"
   ]
  },
  {
   "cell_type": "code",
   "execution_count": null,
   "metadata": {
    "collapsed": false
   },
   "outputs": [],
   "source": [
    "from pandas.tools.plotting import scatter_matrix\n",
    "scatter_matrix (nrg, s=300, figsize=(16, 16), diagonal='kde')\n",
    "# scatter matrix only shows non-Nan values so not much use at this time"
   ]
  },
  {
   "cell_type": "code",
   "execution_count": null,
   "metadata": {
    "collapsed": false
   },
   "outputs": [],
   "source": [
    "# create the indeces array\n",
    "\n",
    "nrg['Reported Property Floor Area (Building(s)) (ft²)']=nrg['Reported Property Floor Area (Building(s)) (ft²)'].convert_objects(convert_numeric=True)\n",
    "nrg['Site EUI(kBtu/ft2)']=nrg['Site EUI(kBtu/ft2)'].convert_objects(convert_numeric=True)\n",
    "\n",
    "# print for clarification (if needed)\n",
    "#print nrg['Site EUI(kBtu/ft2)'].astype(float)\n",
    "#print bsize.BBL.astype(float)\n"
   ]
  },
  {
   "cell_type": "code",
   "execution_count": null,
   "metadata": {
    "collapsed": false
   },
   "outputs": [],
   "source": [
    "# merge datasets using newly created created column BBL\n",
    "nrg['BBL'] = nrg['NYC Borough, Block, and Lot (BBL)']\n",
    "bblnrgdata = nrg.merge(bsize, on='BBL')"
   ]
  },
  {
   "cell_type": "code",
   "execution_count": null,
   "metadata": {
    "collapsed": false
   },
   "outputs": [],
   "source": [
    "bblnrgdata.head()"
   ]
  },
  {
   "cell_type": "code",
   "execution_count": null,
   "metadata": {
    "collapsed": false
   },
   "outputs": [],
   "source": [
    "# plot energy total per building by number of units in building\n",
    "datay = (bblnrgdata['Site EUI(kBtu/ft2)'])*(bblnrgdata['Reported Property Floor Area (Building(s)) (ft²)']) # total energy\n",
    "datax = bblnrgdata['UnitsTotal']"
   ]
  },
  {
   "cell_type": "code",
   "execution_count": null,
   "metadata": {
    "collapsed": false
   },
   "outputs": [],
   "source": [
    "fig=figure(figsize = (10,10))\n",
    "\n",
    "ax = fig.add_subplot(111)\n",
    "ax.plot(datax, datay, 'bo')\n",
    "ax.set_xlim(1,3000)\n",
    "ax.set_ylim(1000, 1e11)\n",
    "plt.xlabel('number of total units')\n",
    "plt.ylabel('total energy per building')"
   ]
  },
  {
   "cell_type": "code",
   "execution_count": null,
   "metadata": {
    "collapsed": false
   },
   "outputs": [],
   "source": [
    "# cut dataset to remove zeros and other leverage points\n",
    "\n",
    "index = (datax>0)&(datax<4000)&(datay>1000)&(datay<1e11) # must use apersand, will assign true or false\n",
    "#print(index)\n"
   ]
  },
  {
   "cell_type": "code",
   "execution_count": null,
   "metadata": {
    "collapsed": false
   },
   "outputs": [],
   "source": [
    "# run log regression\n",
    "import statsmodels.api as sm\n",
    "X = sm.add_constant(np.log10(datax[index])) # add an intercept\n",
    "#print X\n",
    "model1 = sm.OLS(np.log10(datay[index]), X, missing='drop').fit()\n",
    "print model1.summary()"
   ]
  },
  {
   "cell_type": "code",
   "execution_count": null,
   "metadata": {
    "collapsed": false
   },
   "outputs": [],
   "source": [
    "#plot model results above\n",
    "Y = np.log10(datay[index])\n",
    "\n",
    "fig2 = figure(figsize = (10,10))\n",
    "XLR = np.arange(0, 4, 1)\n",
    "YLR = 0.0822*XLR + 6.9178\n",
    "ax = fig2.add_subplot(111)\n",
    "ax.plot(X, Y, 'ro')\n",
    "ax.plot(XLR, YLR, 'blue')\n",
    "plt.xlabel('number of total units - log value')\n",
    "plt.ylabel('total energy per building - log value')\n",
    "\n"
   ]
  },
  {
   "cell_type": "markdown",
   "metadata": {},
   "source": [
    "Cannot perform log likelihood ratio test because degrees of freedom are needed are needed for chi-squared distribution (how D is distributed) and it's zero because there is only on regressor in each model."
   ]
  },
  {
   "cell_type": "code",
   "execution_count": null,
   "metadata": {
    "collapsed": false
   },
   "outputs": [],
   "source": [
    "X2 = sm.add_constant(np.log10(datay[index]))\n",
    "model2 = sm.OLS(np.log10(datax[index]), X2, missing='drop').fit()\n",
    "print model2.summary()\n"
   ]
  },
  {
   "cell_type": "code",
   "execution_count": null,
   "metadata": {
    "collapsed": false
   },
   "outputs": [],
   "source": [
    "# flip x and y axis to see if fit is \"better\"\n",
    "X2 = np.log10(datay[index])\n",
    "Y2 = sm.add_constant(np.log10(datax[index]))\n",
    "fig3 = figure(figsize = (10,10))\n",
    "XLR = np.arange(1, 10, 1)\n",
    "YLR = 0.1418*XLR + 0.662\n",
    "ax = fig3.add_subplot(111)\n",
    "ax.plot(X2, Y2, 'ro')\n",
    "ax.plot(XLR, YLR, 'blue')\n",
    "plt.ylabel('number of total units - log value')\n",
    "plt.ylabel('total energy per building - log value')"
   ]
  },
  {
   "cell_type": "markdown",
   "metadata": {},
   "source": []
  },
  {
   "cell_type": "code",
   "execution_count": null,
   "metadata": {
    "collapsed": false
   },
   "outputs": [],
   "source": [
    "# second degree curve\n",
    "\n",
    "model2 = np.polyfit(datax[index], datay[index], 2)\n",
    "\n",
    "dataIX = np.log10(datax[index])\n",
    "dataIY = np.log10(datay[index])\n",
    "\n",
    "model3 = np.polyfit(dataIX, dataIY, 2)\n",
    "\n",
    "print model2\n",
    "print model3"
   ]
  },
  {
   "cell_type": "code",
   "execution_count": null,
   "metadata": {
    "collapsed": false
   },
   "outputs": [],
   "source": [
    "#fit second degree curve\n",
    "# use same scatter plot as logTotalUnits, logTotalEnergyPerBldg\n",
    "fig4 = figure(figsize = (10,10))\n",
    "ax = fig4.add_subplot(111)\n",
    "ax.plot (dataIX, dataIY, 'go')\n",
    "XLR = np.arange(1, 5, .2)\n",
    "XLY = 0.353*XLR**2 -0.782*XLR + 7.3072\n",
    "ax.plot (XLR, XLY, 'black')\n",
    "plt.title ('Fitting a 2nd degree Curve')\n",
    "plt.xlabel('number of total units - log value')\n",
    "plt.ylabel('total energy per building - log value')\n",
    "\n"
   ]
  },
  {
   "cell_type": "markdown",
   "metadata": {},
   "source": [
    "may be able to perfom perform log-likelihood ratio becasue degrees of freedom between the model is one and the chi-squared stat requires df"
   ]
  }
 ],
 "metadata": {
  "kernelspec": {
   "display_name": "Python 2",
   "language": "python",
   "name": "python2"
  },
  "language_info": {
   "codemirror_mode": {
    "name": "ipython",
    "version": 2
   },
   "file_extension": ".py",
   "mimetype": "text/x-python",
   "name": "python",
   "nbconvert_exporter": "python",
   "pygments_lexer": "ipython2",
   "version": "2.7.10"
  }
 },
 "nbformat": 4,
 "nbformat_minor": 0
}
