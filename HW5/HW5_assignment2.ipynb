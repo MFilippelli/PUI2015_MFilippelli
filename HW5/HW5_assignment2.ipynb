{
 "cells": [
  {
   "cell_type": "code",
   "execution_count": 1,
   "metadata": {
    "collapsed": false
   },
   "outputs": [
    {
     "name": "stdout",
     "output_type": "stream",
     "text": [
      "Populating the interactive namespace from numpy and matplotlib\n"
     ]
    }
   ],
   "source": [
    "import pandas as pd\n",
    "import sys\n",
    "import os\n",
    "import numpy \n",
    "import pylab as pl\n",
    "%pylab inline"
   ]
  },
  {
   "cell_type": "code",
   "execution_count": 2,
   "metadata": {
    "collapsed": true
   },
   "outputs": [],
   "source": [
    "url=\"http://cosmo.nyu.edu/~fb55/UI_CUSP_2015/data/\""
   ]
  },
  {
   "cell_type": "code",
   "execution_count": 3,
   "metadata": {
    "collapsed": false
   },
   "outputs": [
    {
     "name": "stdout",
     "output_type": "stream",
     "text": [
      "Index([      u'Characteristic',    u'Total with Income',\n",
      "       u'$1 to $2,499 or loss',     u'$2,500 to $4,999',\n",
      "           u'$5,000 to $7,499',     u'$7,500 to $9,999',\n",
      "         u'$10,000 to $12,499',   u'$12,500 to $14,999',\n",
      "         u'$15,000 to $17,499',   u'$17,500 to $19,999',\n",
      "         u'$20,000 to $22,499',   u'$22,500 to $24,999',\n",
      "         u'$25,000 to $27,499',   u'$27,500 to $29,999',\n",
      "         u'$30,000 to $32,499',   u'$32,500 to $34,999',\n",
      "         u'$35,000 to $37,499',   u'$37,500 to $39,999',\n",
      "         u'$40,000 to $42,499',   u'$42,500 to $44,999',\n",
      "         u'$45,000 to $47,499',   u'$47,500 to $49,999',\n",
      "         u'$50,000 to $52,499',   u'$52,500 to $54,999',\n",
      "         u'$55,000 to $57,499',   u'$57,500 to $59,999',\n",
      "         u'$60,000 to $62,499',   u'$62,500 to $64,999',\n",
      "         u'$65,000 to $67,499',   u'$67,500 to $69,999',\n",
      "         u'$70,000 to $72,499',   u'$72,500 to $74,999',\n",
      "         u'$75,000 to $77,499',   u'$77,500 to $79,999',\n",
      "         u'$80,000 to $82,499',   u'$82,500 to $84,999',\n",
      "         u'$85,000 to $87,499',   u'$87,500 to $89,999',\n",
      "         u'$90,000 to $92,499',   u'$92,500 to $94,999',\n",
      "         u'$95,000 to $97,499',   u'$97,500 to $99,999',\n",
      "          u'$100,000 and over',        u'Median income',\n",
      "                u'Unnamed: 44',          u'Mean income',\n",
      "                u'Unnamed: 46',           u'Gini ratio',\n",
      "                u'Unnamed: 48'],\n",
      "      dtype='object')\n"
     ]
    }
   ],
   "source": [
    "# create dictionaries\n",
    "\n",
    "allmales={}\n",
    "\n",
    "allmales['all']=pd.read_excel(url+'/pinc08_2_1_1.xls',header=9)\n",
    "allmales['white']=pd.read_excel(url+'/pinc08_2_1_4.xls', header=9)\n",
    "allmales['black']=pd.read_excel(url+'/pinc08_2_1_6.xls', header=9)\n",
    "allmales['hispanic']=pd.read_excel(url+'/pinc08_2_1_9.xls', header=9)\n",
    "allmales['asian']=pd.read_excel(url+'/pinc08_2_1_8.xls', header=9)\n",
    "\n",
    "allfemales={}\n",
    "allfemales['all']=pd.read_excel(url+'/pinc08_3_1_1.xls',header=9)\n",
    "allfemales['white']=pd.read_excel(url+'/pinc08_3_1_4.xls', header=9)\n",
    "allfemales['black']=pd.read_excel(url+'/pinc08_3_1_6.xls', header=9)\n",
    "allfemales['hispanic']=pd.read_excel(url+'/pinc08_3_1_9.xls', header=9)\n",
    "allfemales['asian']=pd.read_excel(url+'/pinc08_3_1_8.xls', header=9)\n",
    "\n",
    "print allmales['asian'].columns\n"
   ]
  },
  {
   "cell_type": "code",
   "execution_count": 4,
   "metadata": {
    "collapsed": false
   },
   "outputs": [
    {
     "name": "stderr",
     "output_type": "stream",
     "text": [
      "C:\\Users\\Maria\\Anaconda\\lib\\site-packages\\IPython\\kernel\\__main__.py:7: SettingWithCopyWarning: \n",
      "A value is trying to be set on a copy of a slice from a DataFrame\n",
      "\n",
      "See the the caveats in the documentation: http://pandas.pydata.org/pandas-docs/stable/indexing.html#indexing-view-versus-copy\n",
      "C:\\Users\\Maria\\Anaconda\\lib\\site-packages\\IPython\\kernel\\__main__.py:15: SettingWithCopyWarning: \n",
      "A value is trying to be set on a copy of a slice from a DataFrame\n",
      "\n",
      "See the the caveats in the documentation: http://pandas.pydata.org/pandas-docs/stable/indexing.html#indexing-view-versus-copy\n"
     ]
    }
   ],
   "source": [
    "from pandas.tools.plotting import scatter_matrix\n",
    "\n",
    "for col in allmales:\n",
    "    nonreal  = allmales[col].applymap(np.isreal)\n",
    "    for i in allmales[col] :\n",
    "        if nonreal.sum()[i]>1 and nonreal.sum()[i]<49:\n",
    "            allmales[col][i][~nonreal[i]] = np.float('NaN')\n",
    "            allmales[col][i] = allmales[col][i].astype(float)\n",
    "            \n",
    "            \n",
    "for col in allfemales:\n",
    "    nonreal  = allfemales[col].applymap(np.isreal)\n",
    "    for i in allfemales[col] :\n",
    "        if nonreal.sum()[i]>1 and nonreal.sum()[i]<49:\n",
    "            allfemales[col][i][~nonreal[i]] = np.float('NaN')\n",
    "            allfemales[col][i] = allfemales[col][i].astype(float)            \n",
    "          "
   ]
  },
  {
   "cell_type": "code",
   "execution_count": 5,
   "metadata": {
    "collapsed": false
   },
   "outputs": [],
   "source": [
    "#scatter_matrix (allfemales['all'], figsize=(16, 16), diagonal='kde')  "
   ]
  },
  {
   "cell_type": "code",
   "execution_count": 6,
   "metadata": {
    "collapsed": false
   },
   "outputs": [],
   "source": [
    "#df = pd.DataFrame(allfemales['all']['Median income'], columns=['Median income'])\n",
    "#scatter_matrix(df, figsize=(6, 6), diagonal='kde')\n",
    "#print df"
   ]
  },
  {
   "cell_type": "code",
   "execution_count": 7,
   "metadata": {
    "collapsed": false
   },
   "outputs": [
    {
     "name": "stdout",
     "output_type": "stream",
     "text": [
      "[22063.0, 23780.0, 20044.0, 24840.0, 17762.0]\n"
     ]
    }
   ],
   "source": [
    "femaleInc = []\n",
    "femaleInc = [allfemales['all']['Median income'][1], allfemales['white']['Median income'][1], \n",
    "    allfemales['black']['Median income'][1], allfemales['asian']['Median income'][1], allfemales['hispanic']['Median income'][1]]\n",
    "print femaleInc"
   ]
  },
  {
   "cell_type": "code",
   "execution_count": 8,
   "metadata": {
    "collapsed": false
   },
   "outputs": [
    {
     "name": "stdout",
     "output_type": "stream",
     "text": [
      "[35228.0, 40122.0, 24855.0, 40153.0, 25411.0]\n"
     ]
    }
   ],
   "source": [
    "maleInc = []\n",
    "maleInc = [allmales['all']['Median income'][1], allmales['white']['Median income'][1], \n",
    "    allmales['black']['Median income'][1], allmales['asian']['Median income'][1], allmales['hispanic']['Median income'][1]]\n",
    "print maleInc"
   ]
  },
  {
   "cell_type": "code",
   "execution_count": 9,
   "metadata": {
    "collapsed": true
   },
   "outputs": [],
   "source": [
    "#plt.scatter[femaleInc, maleInc]"
   ]
  },
  {
   "cell_type": "code",
   "execution_count": 39,
   "metadata": {
    "collapsed": false
   },
   "outputs": [
    {
     "data": {
      "text/plain": [
       "[<matplotlib.lines.Line2D at 0xcb60c88>]"
      ]
     },
     "execution_count": 39,
     "metadata": {},
     "output_type": "execute_result"
    },
    {
     "data": {
      "image/png": "[encoded data removed]",
      "text/plain": [
       "<matplotlib.figure.Figure at 0xcb60550>"
      ]
     },
     "metadata": {},
     "output_type": "display_data"
    }
   ],
   "source": [
    "labels = ('all', 'asian', 'black', 'hispanic', 'white')\n",
    "pl.plot(maleInc, femaleInc, 'go')\n",
    "#pl.legend()\n",
    "pl.xlabel('male median income by ethnicity')\n",
    "pl.ylabel('female median income by ethnicity')\n",
    "\n",
    "pl.plot([1, 45000], [1, 45000])"
   ]
  },
  {
   "cell_type": "code",
   "execution_count": null,
   "metadata": {
    "collapsed": false
   },
   "outputs": [],
   "source": []
  }
 ],
 "metadata": {
  "kernelspec": {
   "display_name": "Python 2",
   "language": "python",
   "name": "python2"
  },
  "language_info": {
   "codemirror_mode": {
    "name": "ipython",
    "version": 2
   },
   "file_extension": ".py",
   "mimetype": "text/x-python",
   "name": "python",
   "nbconvert_exporter": "python",
   "pygments_lexer": "ipython2",
   "version": "2.7.10"
  }
 },
 "nbformat": 4,
 "nbformat_minor": 0
}
