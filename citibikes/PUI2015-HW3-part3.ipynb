{
 "cells": [
  {
   "cell_type": "markdown",
   "metadata": {},
   "source": [
    "HOMEWORK 3 - PART 3\n",
    "\n",
    "IDEA - NYC is a very popular year-round tourist destination and a subset of them use the Citibike system.  NYC also experiences four seasons and we are interested in knowing if the proportion of tourists that use Citibike in the winter is the same as the proportion of tourists that use the system in the summer.  We will use February 2014 for the winter data and August 2014 for the summer data.\n",
    "\n",
    "TESTABLE HYPOTHESIS - The proportion of Citibike customers and subscribers is the same in the winter and the summer\n",
    "\n",
    "H0:  The proportion of Cititbike trips taken by customers and subscribers is the same in February 2014 and August 2014 \n",
    "Ha:  The proportion is not the same\n",
    "\n",
    "CONFIDENCE LEVEL is 95%, alpha = .05\n",
    "\n",
    "STATISTICAL TEST - use z-score, and chi-squared, since we are testing two proportions"
   ]
  },
  {
   "cell_type": "code",
   "execution_count": 119,
   "metadata": {
    "collapsed": false
   },
   "outputs": [
    {
     "name": "stdout",
     "output_type": "stream",
     "text": [
      "Populating the interactive namespace from numpy and matplotlib\n"
     ]
    }
   ],
   "source": [
    "import numpy as np\n",
    "from numpy import random\n",
    "from scipy import stats\n",
    "import matplotlib.pyplot as plt\n",
    "%pylab inline\n",
    "import pandas as pd\n",
    "import sys\n",
    "import statsmodels.formula.api as smf #regression in r-style\n",
    "import os\n",
    "import scipy.stats as stat\n",
    "import urllib\n"
   ]
  },
  {
   "cell_type": "code",
   "execution_count": 144,
   "metadata": {
    "collapsed": true
   },
   "outputs": [],
   "source": [
    "#borrowed this code, download and unzip\n",
    "def getunzipped(theurl, thedir):\n",
    "  name = os.path.join(thedir, 'temp.zip')\n",
    "  try:\n",
    "    name, hdrs = urllib.urlretrieve(theurl, name)\n",
    "  except IOError, e:\n",
    "    print \"Can't retrieve %r to %r: %s\" % (theurl, thedir, e)\n",
    "    return\n",
    "  try:\n",
    "    z = zipfile.ZipFile(name)\n",
    "  except zipfile.error, e:\n",
    "    print \"Bad zipfile (from %r): %s\" % (theurl, e)\n",
    "    return\n",
    "  for n in z.namelist():\n",
    "    dest = os.path.join(thedir, n)\n",
    "    destdir = os.path.dirname(dest)\n",
    "    if not os.path.isdir(destdir):\n",
    "      os.makedirs(destdir)\n",
    "    data = z.read(n)\n",
    "    f = open(dest, 'w')\n",
    "    f.write(data)\n",
    "    f.close()\n",
    "  z.close()\n",
    "  os.unlink(name)"
   ]
  },
  {
   "cell_type": "code",
   "execution_count": 146,
   "metadata": {
    "collapsed": false
   },
   "outputs": [],
   "source": [
    "#check to see if file already exists in directory\n",
    "if os.path.isfile('C:/Users/Maria/PUI2015/CitibikeData_February2014.csv') is False:\n",
    "    getunzipped('https://s3.amazonaws.com/tripdata/201402-citibike-tripdata.zip',os.getcwd())\n",
    "\n",
    "if os.path.isfile('C:\\Users\\Maria\\PUI2015\\CitibikeData_August2014.csv') is False:\n",
    "    getunzipped('https://s3.amazonaws.com/tripdata/201408-citibike-tripdata.zip',os.getcwd())\n",
    "\n",
    "# read csv files\n",
    "df0 = pd.read_csv('C:/Users/Maria/PUI2015/CitibikeData_February2014.csv', header=0)\n",
    "df1 = pd.read_csv('C:\\Users\\Maria\\PUI2015\\CitibikeData_August2014.csv', header=0)"
   ]
  },
  {
   "cell_type": "code",
   "execution_count": 147,
   "metadata": {
    "collapsed": false
   },
   "outputs": [],
   "source": [
    "x0 = df0['usertype'].value_counts()[1]  \n",
    "x1 = df1['usertype'].value_counts()[1]\n",
    "n0 = len(df0.index)\n",
    "n1 = len(df1.index)\n",
    "\n",
    "def ztest_twosides(teststat, nullvalue,  se, alpha):\n",
    "    Ztest = (teststat-nullvalue)/se\n",
    "    pvalue = stat.norm.pdf(Ztest)\n",
    "    if Ztest > 0.: #this considers both sides of 0, e.g. when Z is 1SD, the value ~ .8413\n",
    "        pvalue = 1. -pvalue\n",
    "    pvalue *= 2.\n",
    "    #crit1 = stat.norm.ppf(alpha/2.) \n",
    "    #crit2 = stat.norm.ppf(1-alpha/2.)\n",
    "    return program_output(pvalue, alpha)\n",
    "\n"
   ]
  },
  {
   "cell_type": "code",
   "execution_count": 148,
   "metadata": {
    "collapsed": false
   },
   "outputs": [
    {
     "name": "stdout",
     "output_type": "stream",
     "text": [
      "p_0 = 0.029888 and p_1= 0.141023\n",
      "The Null hypothesis is rejected.\n",
      "The p-value is 0.000000.\n"
     ]
    }
   ],
   "source": [
    "def two_proportions(x0, n0, x1, n1, alpha=0.05):\n",
    "    p0 = float(x0)/n0\n",
    "    p1 = float(x1)/n1\n",
    "    p = float(x0 +x1)/(n0+n1)\n",
    "    samplestat =  p0 - p1 #sample statistic\n",
    "    se = sqrt(p*(1.0-p) * (1.0/n0 + 1.0/n1))\n",
    "    print 'p_0 = %f and p_1= %f' %(p0,p1)\n",
    "    return ztest_twosides(samplestat,0,  se,  alpha)\n",
    "\n",
    "def program_output(pvalue,alpha):\n",
    "    print 'The Null hypothesis is {}'.format( 'rejected.' if pvalue<alpha  else 'not rejected.') \n",
    "    print 'The p-value is %f.' %(pvalue)\n",
    "    \n",
    "two_proportions(x0, n0, x1, n1, 0.01)    "
   ]
  },
  {
   "cell_type": "code",
   "execution_count": 150,
   "metadata": {
    "collapsed": false
   },
   "outputs": [
    {
     "name": "stdout",
     "output_type": "stream",
     "text": [
      "21312\n"
     ]
    }
   ],
   "source": [
    "Ntot = n0+n1\n",
    "expected = 224736*963489*142591*1045634\n",
    "sample_values = [[6717, 218019],[135874, 827615]]\n",
    " \n",
    "chisqstat= lambda N, values, expect : N*((values[0][0]*values[1][1]-values[0][1]*values[1][0])**2)/(expect)\n",
    "print chisqstat(Ntot,  sample_values, expected)\n",
    "\n"
   ]
  },
  {
   "cell_type": "markdown",
   "metadata": {},
   "source": [
    "Since the chi-squared stat is greater than 3.84, we can reject the null hypothesis"
   ]
  },
  {
   "cell_type": "code",
   "execution_count": null,
   "metadata": {
    "collapsed": false
   },
   "outputs": [],
   "source": [
    "#github can't handle it, so let's get rid of it.\n",
    "#os.remove('2014-02 - Citi Bike trip data.csv')\n",
    "#os.remove('2014-08 - Citi Bike trip data.csv')"
   ]
  }
 ],
 "metadata": {
  "kernelspec": {
   "display_name": "Python 2",
   "language": "python",
   "name": "python2"
  },
  "language_info": {
   "codemirror_mode": {
    "name": "ipython",
    "version": 2
   },
   "file_extension": ".py",
   "mimetype": "text/x-python",
   "name": "python",
   "nbconvert_exporter": "python",
   "pygments_lexer": "ipython2",
   "version": "2.7.10"
  }
 },
 "nbformat": 4,
 "nbformat_minor": 0
}
